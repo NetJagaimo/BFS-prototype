{
 "nbformat": 4,
 "nbformat_minor": 2,
 "metadata": {
  "language_info": {
   "name": "python",
   "codemirror_mode": {
    "name": "ipython",
    "version": 3
   },
   "version": "3.6.1"
  },
  "orig_nbformat": 2,
  "file_extension": ".py",
  "mimetype": "text/x-python",
  "name": "python",
  "npconvert_exporter": "python",
  "pygments_lexer": "ipython3",
  "version": 3
 },
 "cells": [
  {
   "cell_type": "code",
   "execution_count": 2,
   "metadata": {},
   "outputs": [
    {
     "name": "stderr",
     "output_type": "stream",
     "text": "c:\\Users\\Sam\\Desktop\\graduate_courses_data\\Information_Retrieval\\final_project\\venv\\lib\\site-packages\\tensorflow\\python\\framework\\dtypes.py:526: FutureWarning: Passing (type, 1) or '1type' as a synonym of type is deprecated; in a future version of numpy, it will be understood as (type, (1,)) / '(1,)type'.\n  _np_qint8 = np.dtype([(\"qint8\", np.int8, 1)])\nc:\\Users\\Sam\\Desktop\\graduate_courses_data\\Information_Retrieval\\final_project\\venv\\lib\\site-packages\\tensorflow\\python\\framework\\dtypes.py:527: FutureWarning: Passing (type, 1) or '1type' as a synonym of type is deprecated; in a future version of numpy, it will be understood as (type, (1,)) / '(1,)type'.\n  _np_quint8 = np.dtype([(\"quint8\", np.uint8, 1)])\nc:\\Users\\Sam\\Desktop\\graduate_courses_data\\Information_Retrieval\\final_project\\venv\\lib\\site-packages\\tensorflow\\python\\framework\\dtypes.py:528: FutureWarning: Passing (type, 1) or '1type' as a synonym of type is deprecated; in a future version of numpy, it will be understood as (type, (1,)) / '(1,)type'.\n  _np_qint16 = np.dtype([(\"qint16\", np.int16, 1)])\nc:\\Users\\Sam\\Desktop\\graduate_courses_data\\Information_Retrieval\\final_project\\venv\\lib\\site-packages\\tensorflow\\python\\framework\\dtypes.py:529: FutureWarning: Passing (type, 1) or '1type' as a synonym of type is deprecated; in a future version of numpy, it will be understood as (type, (1,)) / '(1,)type'.\n  _np_quint16 = np.dtype([(\"quint16\", np.uint16, 1)])\nc:\\Users\\Sam\\Desktop\\graduate_courses_data\\Information_Retrieval\\final_project\\venv\\lib\\site-packages\\tensorflow\\python\\framework\\dtypes.py:530: FutureWarning: Passing (type, 1) or '1type' as a synonym of type is deprecated; in a future version of numpy, it will be understood as (type, (1,)) / '(1,)type'.\n  _np_qint32 = np.dtype([(\"qint32\", np.int32, 1)])\nc:\\Users\\Sam\\Desktop\\graduate_courses_data\\Information_Retrieval\\final_project\\venv\\lib\\site-packages\\tensorflow\\python\\framework\\dtypes.py:535: FutureWarning: Passing (type, 1) or '1type' as a synonym of type is deprecated; in a future version of numpy, it will be understood as (type, (1,)) / '(1,)type'.\n  np_resource = np.dtype([(\"resource\", np.ubyte, 1)])\n\nWARNING: The TensorFlow contrib module will not be included in TensorFlow 2.0.\nFor more information, please see:\n  * https://github.com/tensorflow/community/blob/master/rfcs/20180907-contrib-sunset.md\n  * https://github.com/tensorflow/addons\nIf you depend on functionality not listed there, please file an issue.\n\n"
    }
   ],
   "source": [
    "# -*- coding: utf-8 -*-\n",
    "import csv\n",
    "from ckiptagger import WS\n",
    "from opencc import OpenCC\n",
    "import re\n",
    "import gensim\n",
    "\n",
    "cc = OpenCC('s2tw')\n",
    "ws = WS(\"./data\")\n",
    "\n",
    "chi_stopWords=[]\n",
    "with open('stopWords.txt', 'r', encoding='UTF-8') as file:\n",
    "    for data in file.readlines():\n",
    "        data = data.strip()\n",
    "        chi_stopWords.append(data)"
   ]
  },
  {
   "cell_type": "code",
   "execution_count": 3,
   "metadata": {},
   "outputs": [],
   "source": [
    "def preprocess(text):\n",
    "    chi_tokens = []\n",
    "    chi_text = \"\".join(re.compile(r'[\\u4e00-\\u9fa5]').findall(text))\n",
    "    if len(chi_text) > 0:\n",
    "        chi_text_seg = ws([chi_text])[0]\n",
    "        chi_tokens = list(filter(lambda a: a not in chi_stopWords, chi_text_seg))\n",
    "\n",
    "    eng_tokens = []\n",
    "    eng_text = \" \".join(re.compile(r'[\\u0061-\\u007a]+').findall(text.lower()))\n",
    "    if len(eng_text) > 0:\n",
    "        eng_text = gensim.parsing.remove_stopwords(eng_text)\n",
    "        eng_tokens = list(gensim.utils.tokenize(eng_text))\n",
    "\n",
    "    tokens = chi_tokens + eng_tokens\n",
    "    return tokens"
   ]
  },
  {
   "cell_type": "code",
   "execution_count": 4,
   "metadata": {},
   "outputs": [],
   "source": [
    "class BookmarkFullTextCorpus():\n",
    "    def __init__(self, archive_path):\n",
    "        self.path = archive_path\n",
    "        self.dictionary = gensim.corpora.Dictionary(self.iter_texts())\n",
    "        \n",
    "    def iter_texts(self):\n",
    "        with open(self.path, encoding='utf-8') as f:\n",
    "            for row in csv.DictReader(f):\n",
    "                yield preprocess(row[\"plain_text\"])\n",
    "                \n",
    "    def __iter__(self):\n",
    "        for document in self.iter_texts():\n",
    "            yield self.dictionary.doc2bow(document)\n",
    "\n",
    "    def __len__(self):\n",
    "        return self.dictionary.num_docs\n",
    "    \n",
    "    def get_original(self, key):\n",
    "        with open('data_sample.csv', encoding='utf-8') as f:\n",
    "            for i, row in enumerate(csv.DictReader(f)):\n",
    "                if i == key:\n",
    "                    return row"
   ]
  },
  {
   "cell_type": "code",
   "execution_count": 5,
   "metadata": {},
   "outputs": [],
   "source": [
    "content = BookmarkFullTextCorpus('data_sample.csv')\n",
    "\n",
    "index = gensim.similarities.Similarity('data_sample.csv',\n",
    "                                       content, \n",
    "                                       num_features=len(content.dictionary),\n",
    "                                       num_best=15)"
   ]
  },
  {
   "cell_type": "code",
   "execution_count": 6,
   "metadata": {},
   "outputs": [],
   "source": [
    "def search(query):\n",
    "    query_bow = content.dictionary.doc2bow(preprocess(query))\n",
    "    \n",
    "    for doc, percent in index[query_bow]:\n",
    "        result = content.get_original(doc)\n",
    "        print(\"{:.5f} => {} ({})\".format(percent, result['title'], result['url']))"
   ]
  },
  {
   "cell_type": "code",
   "execution_count": 7,
   "metadata": {},
   "outputs": [
    {
     "name": "stdout",
     "output_type": "stream",
     "text": "0.41304 => 英雄集結：深度學習的魔法使們 (https://ithelp.ithome.com.tw/users/20112540/ironman/2064?sc=iThelpR)\n0.41304 => 超簡單用Python預測股價 | FinLab 量化實驗室 (https://www.finlab.tw/%E8%B6%85%E7%B0%A1%E5%96%AE-Machine-Learning-%E9%A0%90%E6%B8%AC%E8%82%A1%E5%83%B9/)\n0.06483 => [電腦視覺] 如何應用 Cloud AutoML Vision 辨識怪盜基德、工藤新一、服部平次 – 沒一村生活點滴 (https://noootown.wordpress.com/2018/07/25/apply-cloud-automl-vision-distinguish-konan/)\n0.01116 => 語言支援  |  Cloud Speech-to-Text API  |  Google Cloud (https://cloud.google.com/speech-to-text/docs/languages?hl=zh-TW)\n"
    }
   ],
   "source": [
    "search('深度學習')"
   ]
  },
  {
   "cell_type": "code",
   "execution_count": 8,
   "metadata": {},
   "outputs": [],
   "source": [
    "lsi = gensim.models.LsiModel(content,\n",
    "                             num_topics=100,\n",
    "                             power_iters=10,\n",
    "                             id2word=content.dictionary)"
   ]
  },
  {
   "cell_type": "code",
   "execution_count": 9,
   "metadata": {},
   "outputs": [],
   "source": [
    "lsi_index = gensim.similarities.Similarity('data_sample.csv',\n",
    "                                           lsi[content],\n",
    "                                           num_features=lsi.num_topics,\n",
    "                                           num_best=15)"
   ]
  },
  {
   "cell_type": "code",
   "execution_count": 10,
   "metadata": {},
   "outputs": [],
   "source": [
    "def lsi_search(query):\n",
    "    query_bow = content.dictionary.doc2bow(preprocess(query))\n",
    "    \n",
    "    for doc, percent in lsi_index[lsi[query_bow]]:\n",
    "        result = content.get_original(doc)\n",
    "        print(\"{:.5f} => {} ({})\".format(percent, result['title'], result['url']))"
   ]
  },
  {
   "cell_type": "code",
   "execution_count": 11,
   "metadata": {},
   "outputs": [
    {
     "name": "stdout",
     "output_type": "stream",
     "text": "0.99641 => 英雄集結：深度學習的魔法使們 (https://ithelp.ithome.com.tw/users/20112540/ironman/2064?sc=iThelpR)\n0.99641 => 超簡單用Python預測股價 | FinLab 量化實驗室 (https://www.finlab.tw/%E8%B6%85%E7%B0%A1%E5%96%AE-Machine-Learning-%E9%A0%90%E6%B8%AC%E8%82%A1%E5%83%B9/)\n0.15640 => [電腦視覺] 如何應用 Cloud AutoML Vision 辨識怪盜基德、工藤新一、服部平次 – 沒一村生活點滴 (https://noootown.wordpress.com/2018/07/25/apply-cloud-automl-vision-distinguish-konan/)\n0.02692 => 語言支援  |  Cloud Speech-to-Text API  |  Google Cloud (https://cloud.google.com/speech-to-text/docs/languages?hl=zh-TW)\n0.00000 => A Game-Engine-Based Learning Environment Framework for Artificial General Intelligence | SpringerLink (https://link.springer.com/chapter/10.1007/978-3-319-46687-3_39)\n0.00000 => Whole brain connectomic architecture to develop general artificial intelligence - ScienceDirect (https://www.sciencedirect.com/science/article/pii/S1877050918300498)\n0.00000 => ShareCourse 學聯網 (https://www.sharecourse.net/sharecourse/course/content/homepage/1700)\n0.00000 => 不到 2 小时，我自己开发出了一款聊天机器人_36氪 (http://36kr.com/p/5098966.html)\n0.00000 => Programming for Everybody (Getting Started with Python) | Coursera (https://www.coursera.org/learn/python?siteID=SAyYsTvLiGQ-DohbxFI_XulUJEJVnExRww&utm_content=10&utm_medium=partners&utm_source=linkshare&utm_campaign=SAyYsTvLiGQ)\n-0.00000 => junyanz/CycleGAN: Software that can generate photos from paintings, turn horses into zebras, perform style transfer, and more. (https://github.com/junyanz/CycleGAN)\n"
    }
   ],
   "source": [
    "lsi_search('深度學習')"
   ]
  },
  {
   "cell_type": "code",
   "execution_count": null,
   "metadata": {},
   "outputs": [],
   "source": []
  }
 ]
}